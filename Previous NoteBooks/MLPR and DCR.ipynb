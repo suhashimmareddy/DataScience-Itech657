{
 "cells": [
  {
   "cell_type": "code",
   "execution_count": 1,
   "metadata": {},
   "outputs": [
    {
     "data": {
      "text/html": [
       "<div>\n",
       "<style scoped>\n",
       "    .dataframe tbody tr th:only-of-type {\n",
       "        vertical-align: middle;\n",
       "    }\n",
       "\n",
       "    .dataframe tbody tr th {\n",
       "        vertical-align: top;\n",
       "    }\n",
       "\n",
       "    .dataframe thead th {\n",
       "        text-align: right;\n",
       "    }\n",
       "</style>\n",
       "<table border=\"1\" class=\"dataframe\">\n",
       "  <thead>\n",
       "    <tr style=\"text-align: right;\">\n",
       "      <th></th>\n",
       "      <th>Date</th>\n",
       "      <th>Holiday</th>\n",
       "      <th>Public Holidays</th>\n",
       "      <th>Indicator</th>\n",
       "      <th>School Holidays</th>\n",
       "      <th>labor force</th>\n",
       "      <th>employment</th>\n",
       "      <th>unemployment</th>\n",
       "      <th>unemployment rate</th>\n",
       "      <th>Area</th>\n",
       "      <th>...</th>\n",
       "      <th>February</th>\n",
       "      <th>January</th>\n",
       "      <th>July</th>\n",
       "      <th>June</th>\n",
       "      <th>March</th>\n",
       "      <th>May</th>\n",
       "      <th>November</th>\n",
       "      <th>October</th>\n",
       "      <th>September</th>\n",
       "      <th>Payday</th>\n",
       "    </tr>\n",
       "  </thead>\n",
       "  <tbody>\n",
       "    <tr>\n",
       "      <th>0</th>\n",
       "      <td>2010-01-01</td>\n",
       "      <td>New Year's Day</td>\n",
       "      <td>True</td>\n",
       "      <td>1.0</td>\n",
       "      <td>True</td>\n",
       "      <td>3097652</td>\n",
       "      <td>2884050</td>\n",
       "      <td>213602</td>\n",
       "      <td>6.9</td>\n",
       "      <td>Washington-Arlington-Alexandria, DC-VA-MD-WV M...</td>\n",
       "      <td>...</td>\n",
       "      <td>0</td>\n",
       "      <td>1</td>\n",
       "      <td>0</td>\n",
       "      <td>0</td>\n",
       "      <td>0</td>\n",
       "      <td>0</td>\n",
       "      <td>0</td>\n",
       "      <td>0</td>\n",
       "      <td>0</td>\n",
       "      <td>True</td>\n",
       "    </tr>\n",
       "    <tr>\n",
       "      <th>1</th>\n",
       "      <td>2010-01-02</td>\n",
       "      <td>NaN</td>\n",
       "      <td>False</td>\n",
       "      <td>NaN</td>\n",
       "      <td>False</td>\n",
       "      <td>3097652</td>\n",
       "      <td>2884050</td>\n",
       "      <td>213602</td>\n",
       "      <td>6.9</td>\n",
       "      <td>Washington-Arlington-Alexandria, DC-VA-MD-WV M...</td>\n",
       "      <td>...</td>\n",
       "      <td>0</td>\n",
       "      <td>1</td>\n",
       "      <td>0</td>\n",
       "      <td>0</td>\n",
       "      <td>0</td>\n",
       "      <td>0</td>\n",
       "      <td>0</td>\n",
       "      <td>0</td>\n",
       "      <td>0</td>\n",
       "      <td>False</td>\n",
       "    </tr>\n",
       "    <tr>\n",
       "      <th>2</th>\n",
       "      <td>2010-01-03</td>\n",
       "      <td>NaN</td>\n",
       "      <td>False</td>\n",
       "      <td>NaN</td>\n",
       "      <td>False</td>\n",
       "      <td>3097652</td>\n",
       "      <td>2884050</td>\n",
       "      <td>213602</td>\n",
       "      <td>6.9</td>\n",
       "      <td>Washington-Arlington-Alexandria, DC-VA-MD-WV M...</td>\n",
       "      <td>...</td>\n",
       "      <td>0</td>\n",
       "      <td>1</td>\n",
       "      <td>0</td>\n",
       "      <td>0</td>\n",
       "      <td>0</td>\n",
       "      <td>0</td>\n",
       "      <td>0</td>\n",
       "      <td>0</td>\n",
       "      <td>0</td>\n",
       "      <td>False</td>\n",
       "    </tr>\n",
       "    <tr>\n",
       "      <th>3</th>\n",
       "      <td>2010-01-04</td>\n",
       "      <td>NaN</td>\n",
       "      <td>False</td>\n",
       "      <td>NaN</td>\n",
       "      <td>False</td>\n",
       "      <td>3097652</td>\n",
       "      <td>2884050</td>\n",
       "      <td>213602</td>\n",
       "      <td>6.9</td>\n",
       "      <td>Washington-Arlington-Alexandria, DC-VA-MD-WV M...</td>\n",
       "      <td>...</td>\n",
       "      <td>0</td>\n",
       "      <td>1</td>\n",
       "      <td>0</td>\n",
       "      <td>0</td>\n",
       "      <td>0</td>\n",
       "      <td>0</td>\n",
       "      <td>0</td>\n",
       "      <td>0</td>\n",
       "      <td>0</td>\n",
       "      <td>False</td>\n",
       "    </tr>\n",
       "    <tr>\n",
       "      <th>4</th>\n",
       "      <td>2010-01-05</td>\n",
       "      <td>NaN</td>\n",
       "      <td>False</td>\n",
       "      <td>NaN</td>\n",
       "      <td>False</td>\n",
       "      <td>3097652</td>\n",
       "      <td>2884050</td>\n",
       "      <td>213602</td>\n",
       "      <td>6.9</td>\n",
       "      <td>Washington-Arlington-Alexandria, DC-VA-MD-WV M...</td>\n",
       "      <td>...</td>\n",
       "      <td>0</td>\n",
       "      <td>1</td>\n",
       "      <td>0</td>\n",
       "      <td>0</td>\n",
       "      <td>0</td>\n",
       "      <td>0</td>\n",
       "      <td>0</td>\n",
       "      <td>0</td>\n",
       "      <td>0</td>\n",
       "      <td>False</td>\n",
       "    </tr>\n",
       "  </tbody>\n",
       "</table>\n",
       "<p>5 rows × 48 columns</p>\n",
       "</div>"
      ],
      "text/plain": [
       "         Date         Holiday  Public Holidays  Indicator  School Holidays  \\\n",
       "0  2010-01-01  New Year's Day             True        1.0             True   \n",
       "1  2010-01-02             NaN            False        NaN            False   \n",
       "2  2010-01-03             NaN            False        NaN            False   \n",
       "3  2010-01-04             NaN            False        NaN            False   \n",
       "4  2010-01-05             NaN            False        NaN            False   \n",
       "\n",
       "   labor force  employment  unemployment  unemployment rate  \\\n",
       "0      3097652     2884050        213602                6.9   \n",
       "1      3097652     2884050        213602                6.9   \n",
       "2      3097652     2884050        213602                6.9   \n",
       "3      3097652     2884050        213602                6.9   \n",
       "4      3097652     2884050        213602                6.9   \n",
       "\n",
       "                                                Area  ... February January  \\\n",
       "0  Washington-Arlington-Alexandria, DC-VA-MD-WV M...  ...        0       1   \n",
       "1  Washington-Arlington-Alexandria, DC-VA-MD-WV M...  ...        0       1   \n",
       "2  Washington-Arlington-Alexandria, DC-VA-MD-WV M...  ...        0       1   \n",
       "3  Washington-Arlington-Alexandria, DC-VA-MD-WV M...  ...        0       1   \n",
       "4  Washington-Arlington-Alexandria, DC-VA-MD-WV M...  ...        0       1   \n",
       "\n",
       "   July  June  March  May  November  October  September  Payday  \n",
       "0     0     0      0    0         0        0          0    True  \n",
       "1     0     0      0    0         0        0          0   False  \n",
       "2     0     0      0    0         0        0          0   False  \n",
       "3     0     0      0    0         0        0          0   False  \n",
       "4     0     0      0    0         0        0          0   False  \n",
       "\n",
       "[5 rows x 48 columns]"
      ]
     },
     "execution_count": 1,
     "metadata": {},
     "output_type": "execute_result"
    }
   ],
   "source": [
    "import pandas as pd\n",
    "from sklearn import linear_model\n",
    "from sklearn.model_selection import train_test_split\n",
    "from sklearn import linear_model\n",
    "from sklearn.metrics import r2_score\n",
    "import numpy as np\n",
    "from sklearn import metrics\n",
    "All4=pd.read_csv(\"data/Complete_Data/All_Four_Datasets.csv\")\n",
    "All4.head()"
   ]
  },
  {
   "cell_type": "code",
   "execution_count": 2,
   "metadata": {},
   "outputs": [
    {
     "data": {
      "text/html": [
       "<div>\n",
       "<style scoped>\n",
       "    .dataframe tbody tr th:only-of-type {\n",
       "        vertical-align: middle;\n",
       "    }\n",
       "\n",
       "    .dataframe tbody tr th {\n",
       "        vertical-align: top;\n",
       "    }\n",
       "\n",
       "    .dataframe thead th {\n",
       "        text-align: right;\n",
       "    }\n",
       "</style>\n",
       "<table border=\"1\" class=\"dataframe\">\n",
       "  <thead>\n",
       "    <tr style=\"text-align: right;\">\n",
       "      <th></th>\n",
       "      <th>Holiday</th>\n",
       "      <th>Public Holidays</th>\n",
       "      <th>Indicator</th>\n",
       "      <th>School Holidays</th>\n",
       "      <th>labor force</th>\n",
       "      <th>employment</th>\n",
       "      <th>unemployment</th>\n",
       "      <th>unemployment rate</th>\n",
       "      <th>Area</th>\n",
       "      <th>DAY</th>\n",
       "      <th>...</th>\n",
       "      <th>February</th>\n",
       "      <th>January</th>\n",
       "      <th>July</th>\n",
       "      <th>June</th>\n",
       "      <th>March</th>\n",
       "      <th>May</th>\n",
       "      <th>November</th>\n",
       "      <th>October</th>\n",
       "      <th>September</th>\n",
       "      <th>Payday</th>\n",
       "    </tr>\n",
       "    <tr>\n",
       "      <th>Date</th>\n",
       "      <th></th>\n",
       "      <th></th>\n",
       "      <th></th>\n",
       "      <th></th>\n",
       "      <th></th>\n",
       "      <th></th>\n",
       "      <th></th>\n",
       "      <th></th>\n",
       "      <th></th>\n",
       "      <th></th>\n",
       "      <th></th>\n",
       "      <th></th>\n",
       "      <th></th>\n",
       "      <th></th>\n",
       "      <th></th>\n",
       "      <th></th>\n",
       "      <th></th>\n",
       "      <th></th>\n",
       "      <th></th>\n",
       "      <th></th>\n",
       "      <th></th>\n",
       "    </tr>\n",
       "  </thead>\n",
       "  <tbody>\n",
       "    <tr>\n",
       "      <th>2010-01-01</th>\n",
       "      <td>New Year's Day</td>\n",
       "      <td>True</td>\n",
       "      <td>1.0</td>\n",
       "      <td>True</td>\n",
       "      <td>3097652</td>\n",
       "      <td>2884050</td>\n",
       "      <td>213602</td>\n",
       "      <td>6.9</td>\n",
       "      <td>Washington-Arlington-Alexandria, DC-VA-MD-WV M...</td>\n",
       "      <td>Friday</td>\n",
       "      <td>...</td>\n",
       "      <td>0</td>\n",
       "      <td>1</td>\n",
       "      <td>0</td>\n",
       "      <td>0</td>\n",
       "      <td>0</td>\n",
       "      <td>0</td>\n",
       "      <td>0</td>\n",
       "      <td>0</td>\n",
       "      <td>0</td>\n",
       "      <td>True</td>\n",
       "    </tr>\n",
       "    <tr>\n",
       "      <th>2010-01-02</th>\n",
       "      <td>NaN</td>\n",
       "      <td>False</td>\n",
       "      <td>NaN</td>\n",
       "      <td>False</td>\n",
       "      <td>3097652</td>\n",
       "      <td>2884050</td>\n",
       "      <td>213602</td>\n",
       "      <td>6.9</td>\n",
       "      <td>Washington-Arlington-Alexandria, DC-VA-MD-WV M...</td>\n",
       "      <td>Saturday</td>\n",
       "      <td>...</td>\n",
       "      <td>0</td>\n",
       "      <td>1</td>\n",
       "      <td>0</td>\n",
       "      <td>0</td>\n",
       "      <td>0</td>\n",
       "      <td>0</td>\n",
       "      <td>0</td>\n",
       "      <td>0</td>\n",
       "      <td>0</td>\n",
       "      <td>False</td>\n",
       "    </tr>\n",
       "    <tr>\n",
       "      <th>2010-01-03</th>\n",
       "      <td>NaN</td>\n",
       "      <td>False</td>\n",
       "      <td>NaN</td>\n",
       "      <td>False</td>\n",
       "      <td>3097652</td>\n",
       "      <td>2884050</td>\n",
       "      <td>213602</td>\n",
       "      <td>6.9</td>\n",
       "      <td>Washington-Arlington-Alexandria, DC-VA-MD-WV M...</td>\n",
       "      <td>Sunday</td>\n",
       "      <td>...</td>\n",
       "      <td>0</td>\n",
       "      <td>1</td>\n",
       "      <td>0</td>\n",
       "      <td>0</td>\n",
       "      <td>0</td>\n",
       "      <td>0</td>\n",
       "      <td>0</td>\n",
       "      <td>0</td>\n",
       "      <td>0</td>\n",
       "      <td>False</td>\n",
       "    </tr>\n",
       "    <tr>\n",
       "      <th>2010-01-04</th>\n",
       "      <td>NaN</td>\n",
       "      <td>False</td>\n",
       "      <td>NaN</td>\n",
       "      <td>False</td>\n",
       "      <td>3097652</td>\n",
       "      <td>2884050</td>\n",
       "      <td>213602</td>\n",
       "      <td>6.9</td>\n",
       "      <td>Washington-Arlington-Alexandria, DC-VA-MD-WV M...</td>\n",
       "      <td>Monday</td>\n",
       "      <td>...</td>\n",
       "      <td>0</td>\n",
       "      <td>1</td>\n",
       "      <td>0</td>\n",
       "      <td>0</td>\n",
       "      <td>0</td>\n",
       "      <td>0</td>\n",
       "      <td>0</td>\n",
       "      <td>0</td>\n",
       "      <td>0</td>\n",
       "      <td>False</td>\n",
       "    </tr>\n",
       "    <tr>\n",
       "      <th>2010-01-05</th>\n",
       "      <td>NaN</td>\n",
       "      <td>False</td>\n",
       "      <td>NaN</td>\n",
       "      <td>False</td>\n",
       "      <td>3097652</td>\n",
       "      <td>2884050</td>\n",
       "      <td>213602</td>\n",
       "      <td>6.9</td>\n",
       "      <td>Washington-Arlington-Alexandria, DC-VA-MD-WV M...</td>\n",
       "      <td>Tuesday</td>\n",
       "      <td>...</td>\n",
       "      <td>0</td>\n",
       "      <td>1</td>\n",
       "      <td>0</td>\n",
       "      <td>0</td>\n",
       "      <td>0</td>\n",
       "      <td>0</td>\n",
       "      <td>0</td>\n",
       "      <td>0</td>\n",
       "      <td>0</td>\n",
       "      <td>False</td>\n",
       "    </tr>\n",
       "  </tbody>\n",
       "</table>\n",
       "<p>5 rows × 47 columns</p>\n",
       "</div>"
      ],
      "text/plain": [
       "                   Holiday  Public Holidays  Indicator  School Holidays  \\\n",
       "Date                                                                      \n",
       "2010-01-01  New Year's Day             True        1.0             True   \n",
       "2010-01-02             NaN            False        NaN            False   \n",
       "2010-01-03             NaN            False        NaN            False   \n",
       "2010-01-04             NaN            False        NaN            False   \n",
       "2010-01-05             NaN            False        NaN            False   \n",
       "\n",
       "            labor force  employment  unemployment  unemployment rate  \\\n",
       "Date                                                                   \n",
       "2010-01-01      3097652     2884050        213602                6.9   \n",
       "2010-01-02      3097652     2884050        213602                6.9   \n",
       "2010-01-03      3097652     2884050        213602                6.9   \n",
       "2010-01-04      3097652     2884050        213602                6.9   \n",
       "2010-01-05      3097652     2884050        213602                6.9   \n",
       "\n",
       "                                                         Area       DAY  ...  \\\n",
       "Date                                                                     ...   \n",
       "2010-01-01  Washington-Arlington-Alexandria, DC-VA-MD-WV M...    Friday  ...   \n",
       "2010-01-02  Washington-Arlington-Alexandria, DC-VA-MD-WV M...  Saturday  ...   \n",
       "2010-01-03  Washington-Arlington-Alexandria, DC-VA-MD-WV M...    Sunday  ...   \n",
       "2010-01-04  Washington-Arlington-Alexandria, DC-VA-MD-WV M...    Monday  ...   \n",
       "2010-01-05  Washington-Arlington-Alexandria, DC-VA-MD-WV M...   Tuesday  ...   \n",
       "\n",
       "           February  January  July  June  March  May  November  October  \\\n",
       "Date                                                                      \n",
       "2010-01-01        0        1     0     0      0    0         0        0   \n",
       "2010-01-02        0        1     0     0      0    0         0        0   \n",
       "2010-01-03        0        1     0     0      0    0         0        0   \n",
       "2010-01-04        0        1     0     0      0    0         0        0   \n",
       "2010-01-05        0        1     0     0      0    0         0        0   \n",
       "\n",
       "            September  Payday  \n",
       "Date                           \n",
       "2010-01-01          0    True  \n",
       "2010-01-02          0   False  \n",
       "2010-01-03          0   False  \n",
       "2010-01-04          0   False  \n",
       "2010-01-05          0   False  \n",
       "\n",
       "[5 rows x 47 columns]"
      ]
     },
     "execution_count": 2,
     "metadata": {},
     "output_type": "execute_result"
    }
   ],
   "source": [
    "data = All4.set_index('Date')\n",
    "data.head()"
   ]
  },
  {
   "cell_type": "code",
   "execution_count": 3,
   "metadata": {},
   "outputs": [
    {
     "data": {
      "text/plain": [
       "Index(['Holiday', 'Public Holidays', 'Indicator', 'School Holidays',\n",
       "       'labor force', 'employment', 'unemployment', 'unemployment rate',\n",
       "       'Area', 'DAY', 'MONTH', 'ARSON', 'ASSAULT W/DANGEROUS WEAPON',\n",
       "       'BURGLARY', 'HOMICIDE', 'MOTOR VEHICLE THEFT', 'ROBBERY', 'SEX ABUSE',\n",
       "       'THEFT F/AUTO', 'THEFT/OTHER', 'TOTAL', 'PRCP', 'SNOW', 'SNWD', 'TMAX',\n",
       "       'TMIN', 'TOBS', 'Friday', 'Monday', 'Saturday', 'Sunday', 'Thursday',\n",
       "       'Tuesday', 'Wednesday', 'April', 'August', 'December', 'February',\n",
       "       'January', 'July', 'June', 'March', 'May', 'November', 'October',\n",
       "       'September', 'Payday'],\n",
       "      dtype='object')"
      ]
     },
     "execution_count": 3,
     "metadata": {},
     "output_type": "execute_result"
    }
   ],
   "source": [
    "data.columns"
   ]
  },
  {
   "cell_type": "code",
   "execution_count": 4,
   "metadata": {},
   "outputs": [
    {
     "name": "stdout",
     "output_type": "stream",
     "text": [
      "(658, 47)\n",
      "(2629, 47)\n"
     ]
    }
   ],
   "source": [
    "train, test = train_test_split(data, test_size=0.2, random_state=111)\n",
    "print(test.shape)\n",
    "print(train.shape)"
   ]
  },
  {
   "cell_type": "code",
   "execution_count": 5,
   "metadata": {},
   "outputs": [],
   "source": [
    "DX =['Public Holidays','unemployment rate','PRCP', 'SNOW', 'SNWD', 'TMAX', 'TMIN','Friday', 'Monday', 'Saturday', 'Sunday', 'Thursday', 'Tuesday','Wednesday', 'April', 'August', 'December', 'February', 'January','July', 'June', 'March', 'May', 'November', 'October', 'September']\n",
    "DY = 'TOTAL'"
   ]
  },
  {
   "cell_type": "code",
   "execution_count": 6,
   "metadata": {},
   "outputs": [],
   "source": [
    "X_train= train[DX]\n",
    "y_train= train[DY]\n",
    "X_test= test[DX]\n",
    "y_test= test[DY]"
   ]
  },
  {
   "cell_type": "markdown",
   "metadata": {},
   "source": [
    "MLPR"
   ]
  },
  {
   "cell_type": "code",
   "execution_count": 9,
   "metadata": {},
   "outputs": [
    {
     "name": "stderr",
     "output_type": "stream",
     "text": [
      "C:\\Users\\Paul\\Anaconda3\\lib\\site-packages\\sklearn\\neural_network\\multilayer_perceptron.py:566: ConvergenceWarning: Stochastic Optimizer: Maximum iterations (200) reached and the optimization hasn't converged yet.\n",
      "  % self.max_iter, ConvergenceWarning)\n"
     ]
    }
   ],
   "source": [
    "import sklearn.neural_network as nn\n",
    "MLP = nn.MLPRegressor(random_state = 0)\n",
    "MLP.fit(X_train, y_train)\n",
    "y_pred = MLP.predict(X_test)"
   ]
  },
  {
   "cell_type": "code",
   "execution_count": 10,
   "metadata": {},
   "outputs": [
    {
     "name": "stdout",
     "output_type": "stream",
     "text": [
      "MLPC test: 0.33476291280086323\n",
      "MLPC train: 0.34121360493188413\n"
     ]
    }
   ],
   "source": [
    "testscore = MLP.score(X_test,y_test)\n",
    "trainscore = MLP.score(X_train, y_train)\n",
    "print(\"MLPC test:\", testscore)\n",
    "print(\"MLPC train:\", trainscore)"
   ]
  },
  {
   "cell_type": "code",
   "execution_count": 11,
   "metadata": {},
   "outputs": [
    {
     "name": "stdout",
     "output_type": "stream",
     "text": [
      "Mean Absolute Error: 12.625811119455767\n",
      "Mean Squared Error: 257.3437107841108\n",
      "Root Mean Squared Error: 16.041936004862716\n"
     ]
    }
   ],
   "source": [
    "print('Mean Absolute Error:', metrics.mean_absolute_error(y_test, y_pred))\n",
    "print('Mean Squared Error:', metrics.mean_squared_error(y_test, y_pred))\n",
    "print('Root Mean Squared Error:', np.sqrt(metrics.mean_squared_error(y_test, y_pred)))"
   ]
  },
  {
   "cell_type": "code",
   "execution_count": 12,
   "metadata": {},
   "outputs": [
    {
     "name": "stdout",
     "output_type": "stream",
     "text": [
      "r2 of MLPR is 0.33476291280086323\n"
     ]
    }
   ],
   "source": [
    "print(\"r2 of MLPR is\",metrics.r2_score(y_test, y_pred))"
   ]
  },
  {
   "cell_type": "code",
   "execution_count": 13,
   "metadata": {},
   "outputs": [
    {
     "name": "stderr",
     "output_type": "stream",
     "text": [
      "C:\\Users\\Paul\\Anaconda3\\lib\\site-packages\\sklearn\\neural_network\\multilayer_perceptron.py:566: ConvergenceWarning: Stochastic Optimizer: Maximum iterations (200) reached and the optimization hasn't converged yet.\n",
      "  % self.max_iter, ConvergenceWarning)\n",
      "C:\\Users\\Paul\\Anaconda3\\lib\\site-packages\\sklearn\\neural_network\\multilayer_perceptron.py:566: ConvergenceWarning: Stochastic Optimizer: Maximum iterations (200) reached and the optimization hasn't converged yet.\n",
      "  % self.max_iter, ConvergenceWarning)\n",
      "C:\\Users\\Paul\\Anaconda3\\lib\\site-packages\\sklearn\\neural_network\\multilayer_perceptron.py:566: ConvergenceWarning: Stochastic Optimizer: Maximum iterations (200) reached and the optimization hasn't converged yet.\n",
      "  % self.max_iter, ConvergenceWarning)\n",
      "C:\\Users\\Paul\\Anaconda3\\lib\\site-packages\\sklearn\\neural_network\\multilayer_perceptron.py:566: ConvergenceWarning: Stochastic Optimizer: Maximum iterations (200) reached and the optimization hasn't converged yet.\n",
      "  % self.max_iter, ConvergenceWarning)\n",
      "C:\\Users\\Paul\\Anaconda3\\lib\\site-packages\\sklearn\\neural_network\\multilayer_perceptron.py:566: ConvergenceWarning: Stochastic Optimizer: Maximum iterations (200) reached and the optimization hasn't converged yet.\n",
      "  % self.max_iter, ConvergenceWarning)\n",
      "C:\\Users\\Paul\\Anaconda3\\lib\\site-packages\\sklearn\\neural_network\\multilayer_perceptron.py:566: ConvergenceWarning: Stochastic Optimizer: Maximum iterations (200) reached and the optimization hasn't converged yet.\n",
      "  % self.max_iter, ConvergenceWarning)\n",
      "C:\\Users\\Paul\\Anaconda3\\lib\\site-packages\\sklearn\\neural_network\\multilayer_perceptron.py:566: ConvergenceWarning: Stochastic Optimizer: Maximum iterations (200) reached and the optimization hasn't converged yet.\n",
      "  % self.max_iter, ConvergenceWarning)\n",
      "C:\\Users\\Paul\\Anaconda3\\lib\\site-packages\\sklearn\\neural_network\\multilayer_perceptron.py:566: ConvergenceWarning: Stochastic Optimizer: Maximum iterations (200) reached and the optimization hasn't converged yet.\n",
      "  % self.max_iter, ConvergenceWarning)\n",
      "C:\\Users\\Paul\\Anaconda3\\lib\\site-packages\\sklearn\\neural_network\\multilayer_perceptron.py:566: ConvergenceWarning: Stochastic Optimizer: Maximum iterations (200) reached and the optimization hasn't converged yet.\n",
      "  % self.max_iter, ConvergenceWarning)\n",
      "C:\\Users\\Paul\\Anaconda3\\lib\\site-packages\\sklearn\\neural_network\\multilayer_perceptron.py:566: ConvergenceWarning: Stochastic Optimizer: Maximum iterations (200) reached and the optimization hasn't converged yet.\n",
      "  % self.max_iter, ConvergenceWarning)\n"
     ]
    }
   ],
   "source": [
    "import sklearn.neural_network as nn\n",
    "from sklearn.metrics import accuracy_score\n",
    "random = [1,2,3,4,5,6,7,8,9,10]\n",
    "trainscore = []\n",
    "testscore = []\n",
    "for r in random:\n",
    "    MLP = nn.MLPRegressor(random_state = r)\n",
    "    MLP.fit(X_train, y_train)\n",
    "    trainscore.append(MLP.score(X_train,y_train))\n",
    "    testscore.append(MLP.score(X_test,y_test))    \n",
    "       "
   ]
  },
  {
   "cell_type": "code",
   "execution_count": 14,
   "metadata": {},
   "outputs": [
    {
     "data": {
      "text/plain": [
       "[<matplotlib.lines.Line2D at 0x1e666ddcf28>]"
      ]
     },
     "execution_count": 14,
     "metadata": {},
     "output_type": "execute_result"
    },
    {
     "data": {
      "image/png": "[encoded data removed]",
      "text/plain": [
       "<Figure size 432x288 with 1 Axes>"
      ]
     },
     "metadata": {
      "needs_background": "light"
     },
     "output_type": "display_data"
    }
   ],
   "source": [
    "import matplotlib.pyplot as plt\n",
    "%matplotlib inline\n",
    "plt.plot(random, trainscore, c = 'red')\n",
    "plt.plot(random, testscore, c = 'green')"
   ]
  },
  {
   "cell_type": "markdown",
   "metadata": {},
   "source": [
    "DecisionTreeRegressor"
   ]
  },
  {
   "cell_type": "code",
   "execution_count": null,
   "metadata": {},
   "outputs": [],
   "source": [
    "from sklearn.tree import DecisionTreeRegressor\n",
    "DC = DecisionTreeRegressor(max_depth = 5)\n",
    "DC.fit(X_train, y_train)\n",
    "y_pred1 = DC.predict(x_test)"
   ]
  },
  {
   "cell_type": "code",
   "execution_count": null,
   "metadata": {},
   "outputs": [],
   "source": [
    "testscore = DC.score(X_test,y_test)\n",
    "trainscore = DC.score(X_train, y_train)\n",
    "print(\"DC test:\", testscore)\n",
    "print(\"DC train:\", trainscore)"
   ]
  },
  {
   "cell_type": "code",
   "execution_count": null,
   "metadata": {},
   "outputs": [],
   "source": [
    "print('Mean Absolute Error:', metrics.mean_absolute_error(y_test, y_pred1))\n",
    "print('Mean Squared Error:', metrics.mean_squared_error(y_test, y_pred1))\n",
    "print('Root Mean Squared Error:', np.sqrt(metrics.mean_squared_error(y_test, y_pred1)))"
   ]
  },
  {
   "cell_type": "code",
   "execution_count": null,
   "metadata": {},
   "outputs": [],
   "source": [
    "print(\"r2 of Decision Tree is\",metrics.r2_score(y_test, y_pred1))"
   ]
  },
  {
   "cell_type": "code",
   "execution_count": 19,
   "metadata": {},
   "outputs": [],
   "source": [
    "from sklearn.tree import DecisionTreeRegressor\n",
    "from sklearn.metrics import accuracy_score\n",
    "depth = [1,2,3,4,5,6,7,8,9,10]\n",
    "trainscore = []\n",
    "testscore = []\n",
    "for d in depth:\n",
    "    DC = DecisionTreeRegressor(max_depth = d)\n",
    "    DC.fit(X_train, y_train)\n",
    "    trainscore.append(DC.score(X_train, y_train))\n",
    "    testscore.append(DC.score(X_test, y_test))\n",
    "       "
   ]
  },
  {
   "cell_type": "code",
   "execution_count": 21,
   "metadata": {},
   "outputs": [
    {
     "data": {
      "text/plain": [
       "[<matplotlib.lines.Line2D at 0x1e666c601d0>]"
      ]
     },
     "execution_count": 21,
     "metadata": {},
     "output_type": "execute_result"
    },
    {
     "data": {
      "image/png": "[encoded data removed]",
      "text/plain": [
       "<Figure size 432x288 with 1 Axes>"
      ]
     },
     "metadata": {
      "needs_background": "light"
     },
     "output_type": "display_data"
    }
   ],
   "source": [
    "import matplotlib.pyplot as plt\n",
    "%matplotlib inline\n",
    "plt.plot(depth, trainscore, c = 'red')\n",
    "plt.plot(depth, testscore, c = 'green')"
   ]
  },
  {
   "cell_type": "code",
   "execution_count": null,
   "metadata": {},
   "outputs": [],
   "source": []
  }
 ],
 "metadata": {
  "kernelspec": {
   "display_name": "Python 3",
   "language": "python",
   "name": "python3"
  },
  "language_info": {
   "codemirror_mode": {
    "name": "ipython",
    "version": 3
   },
   "file_extension": ".py",
   "mimetype": "text/x-python",
   "name": "python",
   "nbconvert_exporter": "python",
   "pygments_lexer": "ipython3",
   "version": "3.7.3"
  }
 },
 "nbformat": 4,
 "nbformat_minor": 2
}

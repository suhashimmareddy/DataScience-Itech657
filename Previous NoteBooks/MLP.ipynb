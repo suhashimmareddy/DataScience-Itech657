{
 "cells": [
  {
   "cell_type": "code",
   "execution_count": 1,
   "metadata": {},
   "outputs": [
    {
     "data": {
      "text/html": [
       "<div>\n",
       "<style scoped>\n",
       "    .dataframe tbody tr th:only-of-type {\n",
       "        vertical-align: middle;\n",
       "    }\n",
       "\n",
       "    .dataframe tbody tr th {\n",
       "        vertical-align: top;\n",
       "    }\n",
       "\n",
       "    .dataframe thead th {\n",
       "        text-align: right;\n",
       "    }\n",
       "</style>\n",
       "<table border=\"1\" class=\"dataframe\">\n",
       "  <thead>\n",
       "    <tr style=\"text-align: right;\">\n",
       "      <th></th>\n",
       "      <th>Date</th>\n",
       "      <th>Public Holidays</th>\n",
       "      <th>School Holidays</th>\n",
       "      <th>labor force</th>\n",
       "      <th>employment</th>\n",
       "      <th>unemployment</th>\n",
       "      <th>unemployment rate</th>\n",
       "      <th>Area</th>\n",
       "      <th>DAY</th>\n",
       "      <th>MONTH</th>\n",
       "      <th>...</th>\n",
       "      <th>February</th>\n",
       "      <th>January</th>\n",
       "      <th>July</th>\n",
       "      <th>June</th>\n",
       "      <th>March</th>\n",
       "      <th>May</th>\n",
       "      <th>November</th>\n",
       "      <th>October</th>\n",
       "      <th>September</th>\n",
       "      <th>Payday</th>\n",
       "    </tr>\n",
       "  </thead>\n",
       "  <tbody>\n",
       "    <tr>\n",
       "      <th>0</th>\n",
       "      <td>2010-01-01</td>\n",
       "      <td>True</td>\n",
       "      <td>True</td>\n",
       "      <td>3097652</td>\n",
       "      <td>2884050</td>\n",
       "      <td>213602</td>\n",
       "      <td>6.9</td>\n",
       "      <td>Washington-Arlington-Alexandria, DC-VA-MD-WV M...</td>\n",
       "      <td>Friday</td>\n",
       "      <td>January</td>\n",
       "      <td>...</td>\n",
       "      <td>0</td>\n",
       "      <td>1</td>\n",
       "      <td>0</td>\n",
       "      <td>0</td>\n",
       "      <td>0</td>\n",
       "      <td>0</td>\n",
       "      <td>0</td>\n",
       "      <td>0</td>\n",
       "      <td>0</td>\n",
       "      <td>True</td>\n",
       "    </tr>\n",
       "    <tr>\n",
       "      <th>1</th>\n",
       "      <td>2010-01-02</td>\n",
       "      <td>False</td>\n",
       "      <td>False</td>\n",
       "      <td>3097652</td>\n",
       "      <td>2884050</td>\n",
       "      <td>213602</td>\n",
       "      <td>6.9</td>\n",
       "      <td>Washington-Arlington-Alexandria, DC-VA-MD-WV M...</td>\n",
       "      <td>Saturday</td>\n",
       "      <td>January</td>\n",
       "      <td>...</td>\n",
       "      <td>0</td>\n",
       "      <td>1</td>\n",
       "      <td>0</td>\n",
       "      <td>0</td>\n",
       "      <td>0</td>\n",
       "      <td>0</td>\n",
       "      <td>0</td>\n",
       "      <td>0</td>\n",
       "      <td>0</td>\n",
       "      <td>False</td>\n",
       "    </tr>\n",
       "    <tr>\n",
       "      <th>2</th>\n",
       "      <td>2010-01-03</td>\n",
       "      <td>False</td>\n",
       "      <td>False</td>\n",
       "      <td>3097652</td>\n",
       "      <td>2884050</td>\n",
       "      <td>213602</td>\n",
       "      <td>6.9</td>\n",
       "      <td>Washington-Arlington-Alexandria, DC-VA-MD-WV M...</td>\n",
       "      <td>Sunday</td>\n",
       "      <td>January</td>\n",
       "      <td>...</td>\n",
       "      <td>0</td>\n",
       "      <td>1</td>\n",
       "      <td>0</td>\n",
       "      <td>0</td>\n",
       "      <td>0</td>\n",
       "      <td>0</td>\n",
       "      <td>0</td>\n",
       "      <td>0</td>\n",
       "      <td>0</td>\n",
       "      <td>False</td>\n",
       "    </tr>\n",
       "    <tr>\n",
       "      <th>3</th>\n",
       "      <td>2010-01-04</td>\n",
       "      <td>False</td>\n",
       "      <td>False</td>\n",
       "      <td>3097652</td>\n",
       "      <td>2884050</td>\n",
       "      <td>213602</td>\n",
       "      <td>6.9</td>\n",
       "      <td>Washington-Arlington-Alexandria, DC-VA-MD-WV M...</td>\n",
       "      <td>Monday</td>\n",
       "      <td>January</td>\n",
       "      <td>...</td>\n",
       "      <td>0</td>\n",
       "      <td>1</td>\n",
       "      <td>0</td>\n",
       "      <td>0</td>\n",
       "      <td>0</td>\n",
       "      <td>0</td>\n",
       "      <td>0</td>\n",
       "      <td>0</td>\n",
       "      <td>0</td>\n",
       "      <td>False</td>\n",
       "    </tr>\n",
       "    <tr>\n",
       "      <th>4</th>\n",
       "      <td>2010-01-05</td>\n",
       "      <td>False</td>\n",
       "      <td>False</td>\n",
       "      <td>3097652</td>\n",
       "      <td>2884050</td>\n",
       "      <td>213602</td>\n",
       "      <td>6.9</td>\n",
       "      <td>Washington-Arlington-Alexandria, DC-VA-MD-WV M...</td>\n",
       "      <td>Tuesday</td>\n",
       "      <td>January</td>\n",
       "      <td>...</td>\n",
       "      <td>0</td>\n",
       "      <td>1</td>\n",
       "      <td>0</td>\n",
       "      <td>0</td>\n",
       "      <td>0</td>\n",
       "      <td>0</td>\n",
       "      <td>0</td>\n",
       "      <td>0</td>\n",
       "      <td>0</td>\n",
       "      <td>False</td>\n",
       "    </tr>\n",
       "  </tbody>\n",
       "</table>\n",
       "<p>5 rows × 46 columns</p>\n",
       "</div>"
      ],
      "text/plain": [
       "         Date  Public Holidays  School Holidays  labor force  employment  \\\n",
       "0  2010-01-01             True             True      3097652     2884050   \n",
       "1  2010-01-02            False            False      3097652     2884050   \n",
       "2  2010-01-03            False            False      3097652     2884050   \n",
       "3  2010-01-04            False            False      3097652     2884050   \n",
       "4  2010-01-05            False            False      3097652     2884050   \n",
       "\n",
       "   unemployment  unemployment rate  \\\n",
       "0        213602                6.9   \n",
       "1        213602                6.9   \n",
       "2        213602                6.9   \n",
       "3        213602                6.9   \n",
       "4        213602                6.9   \n",
       "\n",
       "                                                Area       DAY    MONTH  ...  \\\n",
       "0  Washington-Arlington-Alexandria, DC-VA-MD-WV M...    Friday  January  ...   \n",
       "1  Washington-Arlington-Alexandria, DC-VA-MD-WV M...  Saturday  January  ...   \n",
       "2  Washington-Arlington-Alexandria, DC-VA-MD-WV M...    Sunday  January  ...   \n",
       "3  Washington-Arlington-Alexandria, DC-VA-MD-WV M...    Monday  January  ...   \n",
       "4  Washington-Arlington-Alexandria, DC-VA-MD-WV M...   Tuesday  January  ...   \n",
       "\n",
       "   February  January  July  June  March  May  November  October  September  \\\n",
       "0         0        1     0     0      0    0         0        0          0   \n",
       "1         0        1     0     0      0    0         0        0          0   \n",
       "2         0        1     0     0      0    0         0        0          0   \n",
       "3         0        1     0     0      0    0         0        0          0   \n",
       "4         0        1     0     0      0    0         0        0          0   \n",
       "\n",
       "   Payday  \n",
       "0    True  \n",
       "1   False  \n",
       "2   False  \n",
       "3   False  \n",
       "4   False  \n",
       "\n",
       "[5 rows x 46 columns]"
      ]
     },
     "execution_count": 1,
     "metadata": {},
     "output_type": "execute_result"
    }
   ],
   "source": [
    "import pandas as pd\n",
    "from sklearn import linear_model\n",
    "from sklearn.model_selection import train_test_split\n",
    "from sklearn import linear_model\n",
    "from sklearn.metrics import r2_score\n",
    "import numpy as np\n",
    "from sklearn import metrics\n",
    "All4=pd.read_csv(\"data/Complete_Data/All_Four_Datasets.csv\")\n",
    "All4.head()"
   ]
  },
  {
   "cell_type": "code",
   "execution_count": 2,
   "metadata": {},
   "outputs": [
    {
     "data": {
      "text/html": [
       "<div>\n",
       "<style scoped>\n",
       "    .dataframe tbody tr th:only-of-type {\n",
       "        vertical-align: middle;\n",
       "    }\n",
       "\n",
       "    .dataframe tbody tr th {\n",
       "        vertical-align: top;\n",
       "    }\n",
       "\n",
       "    .dataframe thead th {\n",
       "        text-align: right;\n",
       "    }\n",
       "</style>\n",
       "<table border=\"1\" class=\"dataframe\">\n",
       "  <thead>\n",
       "    <tr style=\"text-align: right;\">\n",
       "      <th></th>\n",
       "      <th>Public Holidays</th>\n",
       "      <th>School Holidays</th>\n",
       "      <th>labor force</th>\n",
       "      <th>employment</th>\n",
       "      <th>unemployment</th>\n",
       "      <th>unemployment rate</th>\n",
       "      <th>Area</th>\n",
       "      <th>DAY</th>\n",
       "      <th>MONTH</th>\n",
       "      <th>ARSON</th>\n",
       "      <th>...</th>\n",
       "      <th>February</th>\n",
       "      <th>January</th>\n",
       "      <th>July</th>\n",
       "      <th>June</th>\n",
       "      <th>March</th>\n",
       "      <th>May</th>\n",
       "      <th>November</th>\n",
       "      <th>October</th>\n",
       "      <th>September</th>\n",
       "      <th>Payday</th>\n",
       "    </tr>\n",
       "    <tr>\n",
       "      <th>Date</th>\n",
       "      <th></th>\n",
       "      <th></th>\n",
       "      <th></th>\n",
       "      <th></th>\n",
       "      <th></th>\n",
       "      <th></th>\n",
       "      <th></th>\n",
       "      <th></th>\n",
       "      <th></th>\n",
       "      <th></th>\n",
       "      <th></th>\n",
       "      <th></th>\n",
       "      <th></th>\n",
       "      <th></th>\n",
       "      <th></th>\n",
       "      <th></th>\n",
       "      <th></th>\n",
       "      <th></th>\n",
       "      <th></th>\n",
       "      <th></th>\n",
       "      <th></th>\n",
       "    </tr>\n",
       "  </thead>\n",
       "  <tbody>\n",
       "    <tr>\n",
       "      <th>2010-01-01</th>\n",
       "      <td>True</td>\n",
       "      <td>True</td>\n",
       "      <td>3097652</td>\n",
       "      <td>2884050</td>\n",
       "      <td>213602</td>\n",
       "      <td>6.9</td>\n",
       "      <td>Washington-Arlington-Alexandria, DC-VA-MD-WV M...</td>\n",
       "      <td>Friday</td>\n",
       "      <td>January</td>\n",
       "      <td>0.0</td>\n",
       "      <td>...</td>\n",
       "      <td>0</td>\n",
       "      <td>1</td>\n",
       "      <td>0</td>\n",
       "      <td>0</td>\n",
       "      <td>0</td>\n",
       "      <td>0</td>\n",
       "      <td>0</td>\n",
       "      <td>0</td>\n",
       "      <td>0</td>\n",
       "      <td>True</td>\n",
       "    </tr>\n",
       "    <tr>\n",
       "      <th>2010-01-02</th>\n",
       "      <td>False</td>\n",
       "      <td>False</td>\n",
       "      <td>3097652</td>\n",
       "      <td>2884050</td>\n",
       "      <td>213602</td>\n",
       "      <td>6.9</td>\n",
       "      <td>Washington-Arlington-Alexandria, DC-VA-MD-WV M...</td>\n",
       "      <td>Saturday</td>\n",
       "      <td>January</td>\n",
       "      <td>0.0</td>\n",
       "      <td>...</td>\n",
       "      <td>0</td>\n",
       "      <td>1</td>\n",
       "      <td>0</td>\n",
       "      <td>0</td>\n",
       "      <td>0</td>\n",
       "      <td>0</td>\n",
       "      <td>0</td>\n",
       "      <td>0</td>\n",
       "      <td>0</td>\n",
       "      <td>False</td>\n",
       "    </tr>\n",
       "    <tr>\n",
       "      <th>2010-01-03</th>\n",
       "      <td>False</td>\n",
       "      <td>False</td>\n",
       "      <td>3097652</td>\n",
       "      <td>2884050</td>\n",
       "      <td>213602</td>\n",
       "      <td>6.9</td>\n",
       "      <td>Washington-Arlington-Alexandria, DC-VA-MD-WV M...</td>\n",
       "      <td>Sunday</td>\n",
       "      <td>January</td>\n",
       "      <td>0.0</td>\n",
       "      <td>...</td>\n",
       "      <td>0</td>\n",
       "      <td>1</td>\n",
       "      <td>0</td>\n",
       "      <td>0</td>\n",
       "      <td>0</td>\n",
       "      <td>0</td>\n",
       "      <td>0</td>\n",
       "      <td>0</td>\n",
       "      <td>0</td>\n",
       "      <td>False</td>\n",
       "    </tr>\n",
       "    <tr>\n",
       "      <th>2010-01-04</th>\n",
       "      <td>False</td>\n",
       "      <td>False</td>\n",
       "      <td>3097652</td>\n",
       "      <td>2884050</td>\n",
       "      <td>213602</td>\n",
       "      <td>6.9</td>\n",
       "      <td>Washington-Arlington-Alexandria, DC-VA-MD-WV M...</td>\n",
       "      <td>Monday</td>\n",
       "      <td>January</td>\n",
       "      <td>0.0</td>\n",
       "      <td>...</td>\n",
       "      <td>0</td>\n",
       "      <td>1</td>\n",
       "      <td>0</td>\n",
       "      <td>0</td>\n",
       "      <td>0</td>\n",
       "      <td>0</td>\n",
       "      <td>0</td>\n",
       "      <td>0</td>\n",
       "      <td>0</td>\n",
       "      <td>False</td>\n",
       "    </tr>\n",
       "    <tr>\n",
       "      <th>2010-01-05</th>\n",
       "      <td>False</td>\n",
       "      <td>False</td>\n",
       "      <td>3097652</td>\n",
       "      <td>2884050</td>\n",
       "      <td>213602</td>\n",
       "      <td>6.9</td>\n",
       "      <td>Washington-Arlington-Alexandria, DC-VA-MD-WV M...</td>\n",
       "      <td>Tuesday</td>\n",
       "      <td>January</td>\n",
       "      <td>0.0</td>\n",
       "      <td>...</td>\n",
       "      <td>0</td>\n",
       "      <td>1</td>\n",
       "      <td>0</td>\n",
       "      <td>0</td>\n",
       "      <td>0</td>\n",
       "      <td>0</td>\n",
       "      <td>0</td>\n",
       "      <td>0</td>\n",
       "      <td>0</td>\n",
       "      <td>False</td>\n",
       "    </tr>\n",
       "  </tbody>\n",
       "</table>\n",
       "<p>5 rows × 45 columns</p>\n",
       "</div>"
      ],
      "text/plain": [
       "            Public Holidays  School Holidays  labor force  employment  \\\n",
       "Date                                                                    \n",
       "2010-01-01             True             True      3097652     2884050   \n",
       "2010-01-02            False            False      3097652     2884050   \n",
       "2010-01-03            False            False      3097652     2884050   \n",
       "2010-01-04            False            False      3097652     2884050   \n",
       "2010-01-05            False            False      3097652     2884050   \n",
       "\n",
       "            unemployment  unemployment rate  \\\n",
       "Date                                          \n",
       "2010-01-01        213602                6.9   \n",
       "2010-01-02        213602                6.9   \n",
       "2010-01-03        213602                6.9   \n",
       "2010-01-04        213602                6.9   \n",
       "2010-01-05        213602                6.9   \n",
       "\n",
       "                                                         Area       DAY  \\\n",
       "Date                                                                      \n",
       "2010-01-01  Washington-Arlington-Alexandria, DC-VA-MD-WV M...    Friday   \n",
       "2010-01-02  Washington-Arlington-Alexandria, DC-VA-MD-WV M...  Saturday   \n",
       "2010-01-03  Washington-Arlington-Alexandria, DC-VA-MD-WV M...    Sunday   \n",
       "2010-01-04  Washington-Arlington-Alexandria, DC-VA-MD-WV M...    Monday   \n",
       "2010-01-05  Washington-Arlington-Alexandria, DC-VA-MD-WV M...   Tuesday   \n",
       "\n",
       "              MONTH  ARSON  ...  February  January  July  June  March  May  \\\n",
       "Date                        ...                                              \n",
       "2010-01-01  January    0.0  ...         0        1     0     0      0    0   \n",
       "2010-01-02  January    0.0  ...         0        1     0     0      0    0   \n",
       "2010-01-03  January    0.0  ...         0        1     0     0      0    0   \n",
       "2010-01-04  January    0.0  ...         0        1     0     0      0    0   \n",
       "2010-01-05  January    0.0  ...         0        1     0     0      0    0   \n",
       "\n",
       "            November  October  September  Payday  \n",
       "Date                                              \n",
       "2010-01-01         0        0          0    True  \n",
       "2010-01-02         0        0          0   False  \n",
       "2010-01-03         0        0          0   False  \n",
       "2010-01-04         0        0          0   False  \n",
       "2010-01-05         0        0          0   False  \n",
       "\n",
       "[5 rows x 45 columns]"
      ]
     },
     "execution_count": 2,
     "metadata": {},
     "output_type": "execute_result"
    }
   ],
   "source": [
    "data = All4.set_index('Date')\n",
    "data.head()"
   ]
  },
  {
   "cell_type": "code",
   "execution_count": 3,
   "metadata": {},
   "outputs": [
    {
     "data": {
      "text/plain": [
       "Index(['Public Holidays', 'School Holidays', 'labor force', 'employment',\n",
       "       'unemployment', 'unemployment rate', 'Area', 'DAY', 'MONTH', 'ARSON',\n",
       "       'ASSAULT W/DANGEROUS WEAPON', 'BURGLARY', 'HOMICIDE',\n",
       "       'MOTOR VEHICLE THEFT', 'ROBBERY', 'SEX ABUSE', 'THEFT F/AUTO',\n",
       "       'THEFT/OTHER', 'TOTAL', 'PRCP', 'SNOW', 'SNWD', 'TMAX', 'TMIN', 'TOBS',\n",
       "       'Friday', 'Monday', 'Saturday', 'Sunday', 'Thursday', 'Tuesday',\n",
       "       'Wednesday', 'April', 'August', 'December', 'February', 'January',\n",
       "       'July', 'June', 'March', 'May', 'November', 'October', 'September',\n",
       "       'Payday'],\n",
       "      dtype='object')"
      ]
     },
     "execution_count": 3,
     "metadata": {},
     "output_type": "execute_result"
    }
   ],
   "source": [
    "data.columns"
   ]
  },
  {
   "cell_type": "code",
   "execution_count": 4,
   "metadata": {},
   "outputs": [
    {
     "name": "stdout",
     "output_type": "stream",
     "text": [
      "(658, 45)\n",
      "(2629, 45)\n"
     ]
    }
   ],
   "source": [
    "train, test = train_test_split(data, test_size=0.2, random_state=111)\n",
    "print(test.shape)\n",
    "print(train.shape)"
   ]
  },
  {
   "cell_type": "code",
   "execution_count": 15,
   "metadata": {},
   "outputs": [],
   "source": [
    "DX =['Public Holidays','School Holidays','unemployment rate','PRCP', 'SNOW', 'SNWD', 'TMAX', 'TMIN','Friday', 'Monday', 'Saturday', 'Sunday', 'Thursday', 'Tuesday','Wednesday', 'April', 'August', 'December', 'February', 'January','July', 'June', 'March', 'May', 'November', 'October', 'September']\n",
    "DY = 'TOTAL'"
   ]
  },
  {
   "cell_type": "code",
   "execution_count": 38,
   "metadata": {},
   "outputs": [],
   "source": [
    "x_train= train[DX]\n",
    "y_train= train[DY]\n",
    "x_test= test[DX]\n",
    "y_test= test[DY]"
   ]
  },
  {
   "cell_type": "markdown",
   "metadata": {},
   "source": [
    "MLPR"
   ]
  },
  {
   "cell_type": "code",
   "execution_count": 17,
   "metadata": {},
   "outputs": [
    {
     "name": "stderr",
     "output_type": "stream",
     "text": [
      "C:\\Users\\Paul\\Anaconda3\\lib\\site-packages\\sklearn\\neural_network\\multilayer_perceptron.py:566: ConvergenceWarning: Stochastic Optimizer: Maximum iterations (200) reached and the optimization hasn't converged yet.\n",
      "  % self.max_iter, ConvergenceWarning)\n"
     ]
    }
   ],
   "source": [
    "\n",
    "MLP = nn.MLPRegressor(random_state = 0)\n",
    "MLP.fit(x_train, y_train)\n",
    "y_pred = MLP.predict(x_test)"
   ]
  },
  {
   "cell_type": "code",
   "execution_count": 18,
   "metadata": {},
   "outputs": [
    {
     "name": "stdout",
     "output_type": "stream",
     "text": [
      "MLPC test: 0.3585376755489963\n",
      "MLPC train: 0.3786301993888046\n"
     ]
    }
   ],
   "source": [
    "testscore = MLP.score(x_test,y_test)\n",
    "trainscore = MLP.score(x_train, y_train)\n",
    "print(\"MLPC test:\", testscore)\n",
    "print(\"MLPC train:\", trainscore)"
   ]
  },
  {
   "cell_type": "code",
   "execution_count": null,
   "metadata": {},
   "outputs": [],
   "source": []
  },
  {
   "cell_type": "code",
   "execution_count": 39,
   "metadata": {},
   "outputs": [
    {
     "name": "stderr",
     "output_type": "stream",
     "text": [
      "C:\\Users\\Paul\\Anaconda3\\lib\\site-packages\\sklearn\\neural_network\\multilayer_perceptron.py:566: ConvergenceWarning: Stochastic Optimizer: Maximum iterations (200) reached and the optimization hasn't converged yet.\n",
      "  % self.max_iter, ConvergenceWarning)\n"
     ]
    }
   ],
   "source": [
    "MLP = nn.MLPRegressor(random_state = 0)\n",
    "MLP.fit(X_train, y_train)\n",
    "\n",
    "MAE_MLP_TRAIN = metrics.mean_absolute_error(y_train, MLP.predict(x_train))\n",
    "MAE_MLP_TEST = metrics.mean_absolute_error(y_test, MLP.predict(x_test))\n",
    "\n",
    "\n",
    "MSE_MLP_TRAIN = metrics.mean_squared_error(y_train, MLP.predict(x_train))\n",
    "MSE_MLP_TEST = metrics.mean_squared_error(y_test, MLP.predict(x_test))\n",
    "\n",
    "\n",
    "RMSE_MLP_TRAIN = np.sqrt(metrics.mean_squared_error(y_train, MLP.predict(x_train)))\n",
    "RMSE_MLP_TEST = np.sqrt(metrics.mean_squared_error(y_test, MLP.predict(x_test)))\n",
    "\n",
    "R2_MLP_TRAIN = metrics.r2_score(y_train, MLP.predict(x_train))\n",
    "R2_MLP_TEST = metrics.r2_score(y_test, MLP.predict(x_test))"
   ]
  },
  {
   "cell_type": "code",
   "execution_count": 40,
   "metadata": {},
   "outputs": [
    {
     "name": "stdout",
     "output_type": "stream",
     "text": [
      "Mean Absolute Error of Train: 11.672042390678635\n",
      "Mean Absolute Error of Test: 12.406920754192534\n",
      "Mean Squared Error of Train: 217.48954741645852\n",
      "Mean Squared Error of Test: 248.14656019472264\n",
      "Root Mean Squared Error of Train: 14.747526823723987\n",
      "Root Mean Squared Error of Test: 15.752668351575318\n",
      "r2 of MLPR of Train is 0.3786301993888046\n",
      "r2 of MLPR of Test is 0.3585376755489963\n"
     ]
    }
   ],
   "source": [
    "print('Mean Absolute Error of Train:', MAE_MLP_TRAIN)\n",
    "print('Mean Absolute Error of Test:', MAE_MLP_TEST)\n",
    "\n",
    "print('Mean Squared Error of Train:', MSE_MLP_TRAIN)\n",
    "print('Mean Squared Error of Test:', MSE_MLP_TEST)\n",
    "\n",
    "print('Root Mean Squared Error of Train:', RMSE_MLP_TRAIN)\n",
    "print('Root Mean Squared Error of Test:', RMSE_MLP_TEST)\n",
    "\n",
    "print(\"r2 of MLPR of Train is\", R2_MLP_TRAIN)\n",
    "print(\"r2 of MLPR of Test is\", R2_MLP_TEST)"
   ]
  },
  {
   "cell_type": "code",
   "execution_count": null,
   "metadata": {},
   "outputs": [],
   "source": []
  },
  {
   "cell_type": "code",
   "execution_count": 31,
   "metadata": {},
   "outputs": [],
   "source": [
    "MAE_MLP = metrics.mean_absolute_error(y_test, y_pred)\n",
    "MSE_MLP = metrics.mean_squared_error(y_test, y_pred)\n",
    "RMSE_MLP = np.sqrt(metrics.mean_squared_error(y_test, y_pred))\n",
    "R2_MLP = metrics.r2_score(y_test, y_pred)"
   ]
  },
  {
   "cell_type": "code",
   "execution_count": 33,
   "metadata": {},
   "outputs": [
    {
     "name": "stdout",
     "output_type": "stream",
     "text": [
      "Mean Absolute Error: 12.406920754192534\n",
      "Mean Squared Error: 248.14656019472264\n",
      "Root Mean Squared Error: 15.752668351575318\n",
      "r2 of MLPR is 0.3585376755489963\n"
     ]
    }
   ],
   "source": [
    "print('Mean Absolute Error:', MAE_MLP)\n",
    "print('Mean Squared Error:', MSE_MLP)\n",
    "print('Root Mean Squared Error:', RMSE_MLP)\n",
    "print(\"r2 of MLPR is\", R2_MLP)"
   ]
  },
  {
   "cell_type": "code",
   "execution_count": 20,
   "metadata": {},
   "outputs": [
    {
     "name": "stdout",
     "output_type": "stream",
     "text": [
      "r2 of MLPR is 0.3585376755489963\n"
     ]
    }
   ],
   "source": [
    "print(\"r2 of MLPR is\",metrics.r2_score(y_test, y_pred))"
   ]
  },
  {
   "cell_type": "code",
   "execution_count": 21,
   "metadata": {},
   "outputs": [
    {
     "name": "stdout",
     "output_type": "stream",
     "text": [
      "MLPC test: 0.3585376755489963\n",
      "MLPC train: 0.3786301993888046\n"
     ]
    }
   ],
   "source": [
    "testscore = MLP.score(X_test,y_test)\n",
    "trainscore = MLP.score(X_train, y_train)\n",
    "print(\"MLPC test:\", testscore)\n",
    "print(\"MLPC train:\", trainscore)"
   ]
  },
  {
   "cell_type": "code",
   "execution_count": 41,
   "metadata": {},
   "outputs": [
    {
     "name": "stderr",
     "output_type": "stream",
     "text": [
      "C:\\Users\\Paul\\Anaconda3\\lib\\site-packages\\sklearn\\neural_network\\multilayer_perceptron.py:566: ConvergenceWarning: Stochastic Optimizer: Maximum iterations (100) reached and the optimization hasn't converged yet.\n",
      "  % self.max_iter, ConvergenceWarning)\n",
      "C:\\Users\\Paul\\Anaconda3\\lib\\site-packages\\sklearn\\neural_network\\multilayer_perceptron.py:566: ConvergenceWarning: Stochastic Optimizer: Maximum iterations (150) reached and the optimization hasn't converged yet.\n",
      "  % self.max_iter, ConvergenceWarning)\n",
      "C:\\Users\\Paul\\Anaconda3\\lib\\site-packages\\sklearn\\neural_network\\multilayer_perceptron.py:566: ConvergenceWarning: Stochastic Optimizer: Maximum iterations (200) reached and the optimization hasn't converged yet.\n",
      "  % self.max_iter, ConvergenceWarning)\n",
      "C:\\Users\\Paul\\Anaconda3\\lib\\site-packages\\sklearn\\neural_network\\multilayer_perceptron.py:566: ConvergenceWarning: Stochastic Optimizer: Maximum iterations (250) reached and the optimization hasn't converged yet.\n",
      "  % self.max_iter, ConvergenceWarning)\n",
      "C:\\Users\\Paul\\Anaconda3\\lib\\site-packages\\sklearn\\neural_network\\multilayer_perceptron.py:566: ConvergenceWarning: Stochastic Optimizer: Maximum iterations (300) reached and the optimization hasn't converged yet.\n",
      "  % self.max_iter, ConvergenceWarning)\n",
      "C:\\Users\\Paul\\Anaconda3\\lib\\site-packages\\sklearn\\neural_network\\multilayer_perceptron.py:566: ConvergenceWarning: Stochastic Optimizer: Maximum iterations (350) reached and the optimization hasn't converged yet.\n",
      "  % self.max_iter, ConvergenceWarning)\n"
     ]
    }
   ],
   "source": [
    "import sklearn.neural_network as nn\n",
    "from sklearn.metrics import accuracy_score\n",
    "max_iter = [100,150,200,250,300,350]\n",
    "trainscore = []\n",
    "testscore = []\n",
    "for m in max_iter:\n",
    "    MLP = nn.MLPRegressor(max_iter = m)\n",
    "    MLP.fit(x_train, y_train)\n",
    "    trainscore.append(MLP.score(x_train,y_train))\n",
    "    testscore.append(MLP.score(x_test,y_test)) "
   ]
  },
  {
   "cell_type": "code",
   "execution_count": 42,
   "metadata": {},
   "outputs": [
    {
     "data": {
      "text/plain": [
       "[<matplotlib.lines.Line2D at 0x27d7ecb3e10>]"
      ]
     },
     "execution_count": 42,
     "metadata": {},
     "output_type": "execute_result"
    },
    {
     "data": {
      "image/png": "[encoded data removed]",
      "text/plain": [
       "<Figure size 432x288 with 1 Axes>"
      ]
     },
     "metadata": {
      "needs_background": "light"
     },
     "output_type": "display_data"
    }
   ],
   "source": [
    "import matplotlib.pyplot as plt\n",
    "%matplotlib inline\n",
    "plt.plot(max_iter, trainscore, c = 'red')\n",
    "plt.plot(max_iter, testscore, c = 'green')"
   ]
  },
  {
   "cell_type": "code",
   "execution_count": null,
   "metadata": {},
   "outputs": [],
   "source": [
    "import sklearn.neural_network as nn\n",
    "from sklearn.metrics import accuracy_score\n",
    "random = [1,2,3,4,5,6,7,8,9,10]\n",
    "trainscore = []\n",
    "testscore = []\n",
    "for r in random:\n",
    "    MLP = nn.MLPRegressor(random_state = r)\n",
    "    MLP.fit(X_train, y_train)\n",
    "    trainscore.append(MLP.score(X_train,y_train))\n",
    "    testscore.append(MLP.score(X_test,y_test))    \n",
    "       "
   ]
  },
  {
   "cell_type": "code",
   "execution_count": null,
   "metadata": {},
   "outputs": [],
   "source": [
    "import matplotlib.pyplot as plt\n",
    "%matplotlib inline\n",
    "plt.plot(random, trainscore, c = 'red')\n",
    "plt.plot(random, testscore, c = 'green')"
   ]
  },
  {
   "cell_type": "code",
   "execution_count": null,
   "metadata": {},
   "outputs": [],
   "source": []
  },
  {
   "cell_type": "code",
   "execution_count": null,
   "metadata": {},
   "outputs": [],
   "source": []
  },
  {
   "cell_type": "code",
   "execution_count": null,
   "metadata": {},
   "outputs": [],
   "source": []
  },
  {
   "cell_type": "code",
   "execution_count": null,
   "metadata": {},
   "outputs": [],
   "source": []
  }
 ],
 "metadata": {
  "kernelspec": {
   "display_name": "Python 3",
   "language": "python",
   "name": "python3"
  },
  "language_info": {
   "codemirror_mode": {
    "name": "ipython",
    "version": 3
   },
   "file_extension": ".py",
   "mimetype": "text/x-python",
   "name": "python",
   "nbconvert_exporter": "python",
   "pygments_lexer": "ipython3",
   "version": "3.7.3"
  }
 },
 "nbformat": 4,
 "nbformat_minor": 2
}

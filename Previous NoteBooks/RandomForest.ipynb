{
 "cells": [
  {
   "cell_type": "code",
   "execution_count": 1,
   "metadata": {},
   "outputs": [],
   "source": [
    "from sklearn import linear_model\n",
    "from sklearn.model_selection import train_test_split\n",
    "from sklearn import linear_model\n",
    "from sklearn.metrics import r2_score\n",
    "from sklearn.tree import DecisionTreeRegressor\n",
    "import pandas as pd\n",
    "import numpy as np\n",
    "import matplotlib.pyplot as plt"
   ]
  },
  {
   "cell_type": "code",
   "execution_count": 2,
   "metadata": {},
   "outputs": [],
   "source": [
    "df = pd.read_csv('data/Complete_Data/All_Four_Datasets.csv')\n"
   ]
  },
  {
   "cell_type": "code",
   "execution_count": 3,
   "metadata": {},
   "outputs": [
    {
     "data": {
      "text/html": [
       "<div>\n",
       "<style scoped>\n",
       "    .dataframe tbody tr th:only-of-type {\n",
       "        vertical-align: middle;\n",
       "    }\n",
       "\n",
       "    .dataframe tbody tr th {\n",
       "        vertical-align: top;\n",
       "    }\n",
       "\n",
       "    .dataframe thead th {\n",
       "        text-align: right;\n",
       "    }\n",
       "</style>\n",
       "<table border=\"1\" class=\"dataframe\">\n",
       "  <thead>\n",
       "    <tr style=\"text-align: right;\">\n",
       "      <th></th>\n",
       "      <th>Date</th>\n",
       "      <th>Public Holidays</th>\n",
       "      <th>School Holidays</th>\n",
       "      <th>labor force</th>\n",
       "      <th>employment</th>\n",
       "      <th>unemployment</th>\n",
       "      <th>unemployment rate</th>\n",
       "      <th>Area</th>\n",
       "      <th>DAY</th>\n",
       "      <th>MONTH</th>\n",
       "      <th>...</th>\n",
       "      <th>February</th>\n",
       "      <th>January</th>\n",
       "      <th>July</th>\n",
       "      <th>June</th>\n",
       "      <th>March</th>\n",
       "      <th>May</th>\n",
       "      <th>November</th>\n",
       "      <th>October</th>\n",
       "      <th>September</th>\n",
       "      <th>Payday</th>\n",
       "    </tr>\n",
       "  </thead>\n",
       "  <tbody>\n",
       "    <tr>\n",
       "      <th>0</th>\n",
       "      <td>2010-01-01</td>\n",
       "      <td>True</td>\n",
       "      <td>True</td>\n",
       "      <td>3097652</td>\n",
       "      <td>2884050</td>\n",
       "      <td>213602</td>\n",
       "      <td>6.9</td>\n",
       "      <td>Washington-Arlington-Alexandria, DC-VA-MD-WV M...</td>\n",
       "      <td>Friday</td>\n",
       "      <td>January</td>\n",
       "      <td>...</td>\n",
       "      <td>0</td>\n",
       "      <td>1</td>\n",
       "      <td>0</td>\n",
       "      <td>0</td>\n",
       "      <td>0</td>\n",
       "      <td>0</td>\n",
       "      <td>0</td>\n",
       "      <td>0</td>\n",
       "      <td>0</td>\n",
       "      <td>True</td>\n",
       "    </tr>\n",
       "    <tr>\n",
       "      <th>1</th>\n",
       "      <td>2010-01-02</td>\n",
       "      <td>False</td>\n",
       "      <td>False</td>\n",
       "      <td>3097652</td>\n",
       "      <td>2884050</td>\n",
       "      <td>213602</td>\n",
       "      <td>6.9</td>\n",
       "      <td>Washington-Arlington-Alexandria, DC-VA-MD-WV M...</td>\n",
       "      <td>Saturday</td>\n",
       "      <td>January</td>\n",
       "      <td>...</td>\n",
       "      <td>0</td>\n",
       "      <td>1</td>\n",
       "      <td>0</td>\n",
       "      <td>0</td>\n",
       "      <td>0</td>\n",
       "      <td>0</td>\n",
       "      <td>0</td>\n",
       "      <td>0</td>\n",
       "      <td>0</td>\n",
       "      <td>False</td>\n",
       "    </tr>\n",
       "    <tr>\n",
       "      <th>2</th>\n",
       "      <td>2010-01-03</td>\n",
       "      <td>False</td>\n",
       "      <td>False</td>\n",
       "      <td>3097652</td>\n",
       "      <td>2884050</td>\n",
       "      <td>213602</td>\n",
       "      <td>6.9</td>\n",
       "      <td>Washington-Arlington-Alexandria, DC-VA-MD-WV M...</td>\n",
       "      <td>Sunday</td>\n",
       "      <td>January</td>\n",
       "      <td>...</td>\n",
       "      <td>0</td>\n",
       "      <td>1</td>\n",
       "      <td>0</td>\n",
       "      <td>0</td>\n",
       "      <td>0</td>\n",
       "      <td>0</td>\n",
       "      <td>0</td>\n",
       "      <td>0</td>\n",
       "      <td>0</td>\n",
       "      <td>False</td>\n",
       "    </tr>\n",
       "    <tr>\n",
       "      <th>3</th>\n",
       "      <td>2010-01-04</td>\n",
       "      <td>False</td>\n",
       "      <td>False</td>\n",
       "      <td>3097652</td>\n",
       "      <td>2884050</td>\n",
       "      <td>213602</td>\n",
       "      <td>6.9</td>\n",
       "      <td>Washington-Arlington-Alexandria, DC-VA-MD-WV M...</td>\n",
       "      <td>Monday</td>\n",
       "      <td>January</td>\n",
       "      <td>...</td>\n",
       "      <td>0</td>\n",
       "      <td>1</td>\n",
       "      <td>0</td>\n",
       "      <td>0</td>\n",
       "      <td>0</td>\n",
       "      <td>0</td>\n",
       "      <td>0</td>\n",
       "      <td>0</td>\n",
       "      <td>0</td>\n",
       "      <td>False</td>\n",
       "    </tr>\n",
       "    <tr>\n",
       "      <th>4</th>\n",
       "      <td>2010-01-05</td>\n",
       "      <td>False</td>\n",
       "      <td>False</td>\n",
       "      <td>3097652</td>\n",
       "      <td>2884050</td>\n",
       "      <td>213602</td>\n",
       "      <td>6.9</td>\n",
       "      <td>Washington-Arlington-Alexandria, DC-VA-MD-WV M...</td>\n",
       "      <td>Tuesday</td>\n",
       "      <td>January</td>\n",
       "      <td>...</td>\n",
       "      <td>0</td>\n",
       "      <td>1</td>\n",
       "      <td>0</td>\n",
       "      <td>0</td>\n",
       "      <td>0</td>\n",
       "      <td>0</td>\n",
       "      <td>0</td>\n",
       "      <td>0</td>\n",
       "      <td>0</td>\n",
       "      <td>False</td>\n",
       "    </tr>\n",
       "  </tbody>\n",
       "</table>\n",
       "<p>5 rows × 46 columns</p>\n",
       "</div>"
      ],
      "text/plain": [
       "         Date  Public Holidays  School Holidays  labor force  employment  \\\n",
       "0  2010-01-01             True             True      3097652     2884050   \n",
       "1  2010-01-02            False            False      3097652     2884050   \n",
       "2  2010-01-03            False            False      3097652     2884050   \n",
       "3  2010-01-04            False            False      3097652     2884050   \n",
       "4  2010-01-05            False            False      3097652     2884050   \n",
       "\n",
       "   unemployment  unemployment rate  \\\n",
       "0        213602                6.9   \n",
       "1        213602                6.9   \n",
       "2        213602                6.9   \n",
       "3        213602                6.9   \n",
       "4        213602                6.9   \n",
       "\n",
       "                                                Area       DAY    MONTH  ...  \\\n",
       "0  Washington-Arlington-Alexandria, DC-VA-MD-WV M...    Friday  January  ...   \n",
       "1  Washington-Arlington-Alexandria, DC-VA-MD-WV M...  Saturday  January  ...   \n",
       "2  Washington-Arlington-Alexandria, DC-VA-MD-WV M...    Sunday  January  ...   \n",
       "3  Washington-Arlington-Alexandria, DC-VA-MD-WV M...    Monday  January  ...   \n",
       "4  Washington-Arlington-Alexandria, DC-VA-MD-WV M...   Tuesday  January  ...   \n",
       "\n",
       "   February  January  July  June  March  May  November  October  September  \\\n",
       "0         0        1     0     0      0    0         0        0          0   \n",
       "1         0        1     0     0      0    0         0        0          0   \n",
       "2         0        1     0     0      0    0         0        0          0   \n",
       "3         0        1     0     0      0    0         0        0          0   \n",
       "4         0        1     0     0      0    0         0        0          0   \n",
       "\n",
       "   Payday  \n",
       "0    True  \n",
       "1   False  \n",
       "2   False  \n",
       "3   False  \n",
       "4   False  \n",
       "\n",
       "[5 rows x 46 columns]"
      ]
     },
     "execution_count": 3,
     "metadata": {},
     "output_type": "execute_result"
    }
   ],
   "source": [
    "df.head()"
   ]
  },
  {
   "cell_type": "code",
   "execution_count": 4,
   "metadata": {},
   "outputs": [
    {
     "data": {
      "text/plain": [
       "Index(['Date', 'Public Holidays', 'School Holidays', 'labor force',\n",
       "       'employment', 'unemployment', 'unemployment rate', 'Area', 'DAY',\n",
       "       'MONTH', 'ARSON', 'ASSAULT W/DANGEROUS WEAPON', 'BURGLARY', 'HOMICIDE',\n",
       "       'MOTOR VEHICLE THEFT', 'ROBBERY', 'SEX ABUSE', 'THEFT F/AUTO',\n",
       "       'THEFT/OTHER', 'TOTAL', 'PRCP', 'SNOW', 'SNWD', 'TMAX', 'TMIN', 'TOBS',\n",
       "       'Friday', 'Monday', 'Saturday', 'Sunday', 'Thursday', 'Tuesday',\n",
       "       'Wednesday', 'April', 'August', 'December', 'February', 'January',\n",
       "       'July', 'June', 'March', 'May', 'November', 'October', 'September',\n",
       "       'Payday'],\n",
       "      dtype='object')"
      ]
     },
     "execution_count": 4,
     "metadata": {},
     "output_type": "execute_result"
    }
   ],
   "source": [
    "df.columns"
   ]
  },
  {
   "cell_type": "code",
   "execution_count": 5,
   "metadata": {},
   "outputs": [
    {
     "data": {
      "text/plain": [
       "Date                          0\n",
       "Public Holidays               0\n",
       "School Holidays               0\n",
       "labor force                   0\n",
       "employment                    0\n",
       "unemployment                  0\n",
       "unemployment rate             0\n",
       "Area                          0\n",
       "DAY                           0\n",
       "MONTH                         0\n",
       "ARSON                         0\n",
       "ASSAULT W/DANGEROUS WEAPON    0\n",
       "BURGLARY                      0\n",
       "HOMICIDE                      0\n",
       "MOTOR VEHICLE THEFT           0\n",
       "ROBBERY                       0\n",
       "SEX ABUSE                     0\n",
       "THEFT F/AUTO                  0\n",
       "THEFT/OTHER                   0\n",
       "TOTAL                         0\n",
       "PRCP                          0\n",
       "SNOW                          0\n",
       "SNWD                          0\n",
       "TMAX                          0\n",
       "TMIN                          0\n",
       "TOBS                          0\n",
       "Friday                        0\n",
       "Monday                        0\n",
       "Saturday                      0\n",
       "Sunday                        0\n",
       "Thursday                      0\n",
       "Tuesday                       0\n",
       "Wednesday                     0\n",
       "April                         0\n",
       "August                        0\n",
       "December                      0\n",
       "February                      0\n",
       "January                       0\n",
       "July                          0\n",
       "June                          0\n",
       "March                         0\n",
       "May                           0\n",
       "November                      0\n",
       "October                       0\n",
       "September                     0\n",
       "Payday                        0\n",
       "dtype: int64"
      ]
     },
     "execution_count": 5,
     "metadata": {},
     "output_type": "execute_result"
    }
   ],
   "source": [
    "df.isna().sum()"
   ]
  },
  {
   "cell_type": "code",
   "execution_count": 6,
   "metadata": {},
   "outputs": [],
   "source": [
    "df[\"TOBS\"] = df[\"TOBS\"].fillna(df[\"TOBS\"].mean())"
   ]
  },
  {
   "cell_type": "code",
   "execution_count": 7,
   "metadata": {},
   "outputs": [
    {
     "data": {
      "text/plain": [
       "Date                          0\n",
       "Public Holidays               0\n",
       "School Holidays               0\n",
       "labor force                   0\n",
       "employment                    0\n",
       "unemployment                  0\n",
       "unemployment rate             0\n",
       "Area                          0\n",
       "DAY                           0\n",
       "MONTH                         0\n",
       "ARSON                         0\n",
       "ASSAULT W/DANGEROUS WEAPON    0\n",
       "BURGLARY                      0\n",
       "HOMICIDE                      0\n",
       "MOTOR VEHICLE THEFT           0\n",
       "ROBBERY                       0\n",
       "SEX ABUSE                     0\n",
       "THEFT F/AUTO                  0\n",
       "THEFT/OTHER                   0\n",
       "TOTAL                         0\n",
       "PRCP                          0\n",
       "SNOW                          0\n",
       "SNWD                          0\n",
       "TMAX                          0\n",
       "TMIN                          0\n",
       "TOBS                          0\n",
       "Friday                        0\n",
       "Monday                        0\n",
       "Saturday                      0\n",
       "Sunday                        0\n",
       "Thursday                      0\n",
       "Tuesday                       0\n",
       "Wednesday                     0\n",
       "April                         0\n",
       "August                        0\n",
       "December                      0\n",
       "February                      0\n",
       "January                       0\n",
       "July                          0\n",
       "June                          0\n",
       "March                         0\n",
       "May                           0\n",
       "November                      0\n",
       "October                       0\n",
       "September                     0\n",
       "Payday                        0\n",
       "dtype: int64"
      ]
     },
     "execution_count": 7,
     "metadata": {},
     "output_type": "execute_result"
    }
   ],
   "source": [
    "df.isna().sum()"
   ]
  },
  {
   "cell_type": "code",
   "execution_count": 8,
   "metadata": {},
   "outputs": [
    {
     "data": {
      "text/plain": [
       "Index(['Date', 'Public Holidays', 'School Holidays', 'labor force',\n",
       "       'employment', 'unemployment', 'unemployment rate', 'Area', 'DAY',\n",
       "       'MONTH', 'ARSON', 'ASSAULT W/DANGEROUS WEAPON', 'BURGLARY', 'HOMICIDE',\n",
       "       'MOTOR VEHICLE THEFT', 'ROBBERY', 'SEX ABUSE', 'THEFT F/AUTO',\n",
       "       'THEFT/OTHER', 'TOTAL', 'PRCP', 'SNOW', 'SNWD', 'TMAX', 'TMIN', 'TOBS',\n",
       "       'Friday', 'Monday', 'Saturday', 'Sunday', 'Thursday', 'Tuesday',\n",
       "       'Wednesday', 'April', 'August', 'December', 'February', 'January',\n",
       "       'July', 'June', 'March', 'May', 'November', 'October', 'September',\n",
       "       'Payday'],\n",
       "      dtype='object')"
      ]
     },
     "execution_count": 8,
     "metadata": {},
     "output_type": "execute_result"
    }
   ],
   "source": [
    "df.columns"
   ]
  },
  {
   "cell_type": "code",
   "execution_count": 15,
   "metadata": {},
   "outputs": [],
   "source": [
    "df['Date']=pd.to_datetime(df['Date']).dt.date\n",
    "predictors = ['Public Holidays','School Holidays','Payday','unemployment rate','PRCP', 'SNOW', 'SNWD', 'TMAX', 'TMIN','Friday', 'Monday', 'Saturday', 'Sunday', 'Thursday', 'Tuesday','Wednesday', 'April', 'August', 'December', 'February', 'January','July', 'June', 'March', 'May', 'November', 'October', 'September']\n",
    "target = 'TOTAL'\n",
    "X = df[predictors]\n",
    "y = df[target]\n",
    "x_train, x_test, y_train, y_test = train_test_split(X, y, test_size=0.2, random_state=111)"
   ]
  },
  {
   "cell_type": "code",
   "execution_count": 26,
   "metadata": {},
   "outputs": [
    {
     "name": "stdout",
     "output_type": "stream",
     "text": [
      "(2629, 28)\n",
      "(2629,)\n",
      "(658, 28)\n",
      "(658,)\n"
     ]
    }
   ],
   "source": [
    "print(x_train.shape)\n",
    "print(y_train.shape)\n",
    "print(x_test.shape)\n",
    "print(y_test.shape)\n"
   ]
  },
  {
   "cell_type": "code",
   "execution_count": 27,
   "metadata": {},
   "outputs": [
    {
     "data": {
      "text/plain": [
       "LinearRegression(copy_X=True, fit_intercept=True, n_jobs=None, normalize=False)"
      ]
     },
     "execution_count": 27,
     "metadata": {},
     "output_type": "execute_result"
    }
   ],
   "source": [
    "# Linear Regression\n",
    "reg = linear_model.LinearRegression()\n",
    "reg.fit(x_train, y_train)"
   ]
  },
  {
   "cell_type": "code",
   "execution_count": 28,
   "metadata": {},
   "outputs": [
    {
     "name": "stdout",
     "output_type": "stream",
     "text": [
      "Linear Regression train scores:  0.39810459263596587\n",
      "Linear Regression test scores:  0.38798164154678116\n"
     ]
    }
   ],
   "source": [
    "print(\"Linear Regression train scores: \", reg.score(x_train,y_train))\n",
    "print(\"Linear Regression test scores: \", reg.score(x_test,y_test))"
   ]
  },
  {
   "cell_type": "code",
   "execution_count": 29,
   "metadata": {},
   "outputs": [
    {
     "name": "stdout",
     "output_type": "stream",
     "text": [
      "Decision Tree train scores:  0.38785804726139883\n",
      "Decision Tree test scores:  0.31063564658491616\n"
     ]
    }
   ],
   "source": [
    "tree_reg1 = DecisionTreeRegressor(max_depth=5)\n",
    "tree_reg1.fit(x_train, y_train)\n",
    "print(\"Decision Tree train scores: \", tree_reg1.score(x_train,y_train))\n",
    "print(\"Decision Tree test scores: \", tree_reg1.score(x_test,y_test))"
   ]
  },
  {
   "cell_type": "code",
   "execution_count": 30,
   "metadata": {},
   "outputs": [],
   "source": [
    "#from sklearn.preprocessing import StandardScaler\n",
    "\n",
    "#sc = StandardScaler()\n",
    "#x_train = sc.fit_transform(x_train)\n",
    "#x_test = sc.transform(x_test)\n",
    "def mean_absolute_percentage_error1(y_true, y_pred): \n",
    "    y_true, y_pred = np.array(y_true), np.array(y_pred)\n",
    "    return np.mean(np.abs((y_true - y_pred) / y_true)) * 100"
   ]
  },
  {
   "cell_type": "code",
   "execution_count": 34,
   "metadata": {},
   "outputs": [
    {
     "name": "stdout",
     "output_type": "stream",
     "text": [
      "When Estimators are:  257\n",
      "Random Forest test  R2 scores:  0.1511672469329829\n",
      "RF MSE for test data is 328.3667954068368\n",
      "RF RMSE for test data is 18.12089389094359\n",
      "RF MAE for test data is 14.419743116323735\n",
      "RF MAPE for test data is 16.085698958126756\n",
      "-----------------------------------------------------------------\n",
      "r2 for train data is 0.171003692968957\n",
      "MSE for train data is 290.16220525804636\n",
      "RMSE for train data is 17.034148210522485\n",
      "MAE for train data is 13.457617888725368\n",
      "MAPE for train data is 15.504543443341367\n",
      "==================================================================\n",
      "When Estimators are:  257\n",
      "Random Forest test  R2 scores:  0.21910756146098465\n",
      "RF MSE for test data is 302.08441730598713\n",
      "RF RMSE for test data is 17.38057586232364\n",
      "RF MAE for test data is 13.833185473004255\n",
      "RF MAPE for test data is 15.399536091584922\n",
      "-----------------------------------------------------------------\n",
      "r2 for train data is 0.25741095856043206\n",
      "MSE for train data is 259.9182554096651\n",
      "RMSE for train data is 16.121980505188098\n",
      "MAE for train data is 12.752461582905791\n",
      "MAPE for train data is 14.56554143075343\n",
      "==================================================================\n",
      "When Estimators are:  257\n",
      "Random Forest test  R2 scores:  0.28573671410224066\n",
      "RF MSE for test data is 276.3092557627628\n",
      "RF RMSE for test data is 16.622552624755404\n",
      "RF MAE for test data is 13.221852861928665\n",
      "RF MAPE for test data is 14.666399866158782\n",
      "-----------------------------------------------------------------\n",
      "r2 for train data is 0.3248556077533944\n",
      "MSE for train data is 236.31153005189773\n",
      "RMSE for train data is 15.372427591369481\n",
      "MAE for train data is 12.116368436483286\n",
      "MAPE for train data is 13.761220707943098\n",
      "==================================================================\n",
      "When Estimators are:  257\n",
      "Random Forest test  R2 scores:  0.34213376646101257\n",
      "RF MSE for test data is 254.49233212671243\n",
      "RF RMSE for test data is 15.952815805578412\n",
      "RF MAE for test data is 12.673462576749825\n",
      "RF MAPE for test data is 14.008314401452193\n",
      "-----------------------------------------------------------------\n",
      "r2 for train data is 0.38918047340789846\n",
      "MSE for train data is 213.79677972920476\n",
      "RMSE for train data is 14.62179126267383\n",
      "MAE for train data is 11.498461653564219\n",
      "MAPE for train data is 12.991309080547827\n",
      "==================================================================\n",
      "When Estimators are:  257\n",
      "Random Forest test  R2 scores:  0.38193183486356064\n",
      "RF MSE for test data is 239.0966441805205\n",
      "RF RMSE for test data is 15.462750213998818\n",
      "RF MAE for test data is 12.30111979953707\n",
      "RF MAPE for test data is 13.566085758971033\n",
      "-----------------------------------------------------------------\n",
      "r2 for train data is 0.44401222237805327\n",
      "MSE for train data is 194.60477481386806\n",
      "RMSE for train data is 13.950081534308968\n",
      "MAE for train data is 10.970351040197501\n",
      "MAPE for train data is 12.327285302002617\n",
      "==================================================================\n",
      "When Estimators are:  257\n",
      "Random Forest test  R2 scores:  0.4113550785882777\n",
      "RF MSE for test data is 227.71440637519294\n",
      "RF RMSE for test data is 15.09020895730715\n",
      "RF MAE for test data is 11.973820520841011\n",
      "RF MAPE for test data is 13.200801932012796\n",
      "-----------------------------------------------------------------\n",
      "r2 for train data is 0.4954634676320918\n",
      "MSE for train data is 176.596001240857\n",
      "RMSE for train data is 13.288942818781974\n",
      "MAE for train data is 10.466221410140257\n",
      "MAPE for train data is 11.686152950729154\n",
      "==================================================================\n",
      "When Estimators are:  257\n",
      "Random Forest test  R2 scores:  0.4354243845875776\n",
      "RF MSE for test data is 218.40331317090815\n",
      "RF RMSE for test data is 14.77847465643556\n",
      "RF MAE for test data is 11.712991916970823\n",
      "RF MAPE for test data is 12.9189083100919\n",
      "-----------------------------------------------------------------\n",
      "r2 for train data is 0.5458684502120478\n",
      "MSE for train data is 158.9534366391238\n",
      "RMSE for train data is 12.607673720362682\n",
      "MAE for train data is 9.930715567806287\n",
      "MAPE for train data is 11.017541295537468\n",
      "==================================================================\n",
      "When Estimators are:  257\n",
      "Random Forest test  R2 scores:  0.45271011680481577\n",
      "RF MSE for test data is 211.71641227797446\n",
      "RF RMSE for test data is 14.550478077299537\n",
      "RF MAE for test data is 11.520771485805389\n",
      "RF MAPE for test data is 12.718485925798067\n",
      "-----------------------------------------------------------------\n",
      "r2 for train data is 0.5952415789147777\n",
      "MSE for train data is 141.67203769516323\n",
      "RMSE for train data is 11.902606340426589\n",
      "MAE for train data is 9.356257107033539\n",
      "MAPE for train data is 10.320816132956546\n",
      "==================================================================\n",
      "When Estimators are:  257\n",
      "Random Forest test  R2 scores:  0.46240504512390046\n",
      "RF MSE for test data is 207.96597671533362\n",
      "RF RMSE for test data is 14.421025508448892\n",
      "RF MAE for test data is 11.3893202620106\n",
      "RF MAPE for test data is 12.582064695672695\n",
      "-----------------------------------------------------------------\n",
      "r2 for train data is 0.6431404979118098\n",
      "MSE for train data is 124.9066361514204\n",
      "RMSE for train data is 11.176163749311318\n",
      "MAE for train data is 8.764231532530996\n",
      "MAPE for train data is 9.621496041284802\n",
      "==================================================================\n",
      "When Estimators are:  257\n",
      "Random Forest test  R2 scores:  0.4664679654108801\n",
      "RF MSE for test data is 206.3942558906972\n",
      "RF RMSE for test data is 14.366428083928767\n",
      "RF MAE for test data is 11.33939385335554\n",
      "RF MAPE for test data is 12.53471705650091\n",
      "-----------------------------------------------------------------\n",
      "r2 for train data is 0.6886099565701562\n",
      "MSE for train data is 108.99158528292323\n",
      "RMSE for train data is 10.439903509272641\n",
      "MAE for train data is 8.172609673356536\n",
      "MAPE for train data is 8.94412679078027\n",
      "==================================================================\n"
     ]
    }
   ],
   "source": [
    "from sklearn.ensemble import RandomForestRegressor\n",
    "from sklearn.metrics import mean_squared_error,r2_score\n",
    "import math\n",
    "from sklearn.metrics import mean_absolute_error\n",
    "Depth = [1,2,3,4,5,6,7,8,9,10]\n",
    "from sklearn import metrics\n",
    "Train_Scores = []\n",
    "Test_Scores = []\n",
    "for i in Depth:\n",
    "    regressor = RandomForestRegressor(n_estimators=257, random_state=0, max_depth = i)\n",
    "    regressor.fit(x_train, y_train)\n",
    "    y_pred = regressor.predict(x_test)\n",
    "    print(\"When Estimators are: \",257)\n",
    "    print(\"Random Forest test  R2 scores: \", regressor.score(x_test, y_test))\n",
    "    print(\"RF MSE for test data is\",mean_squared_error(y_test, y_pred))\n",
    "    print(\"RF RMSE for test data is\",math.sqrt(mean_squared_error(y_test, y_pred)))\n",
    "    print(\"RF MAE for test data is\",mean_absolute_error(y_test, y_pred))\n",
    "    print(\"RF MAPE for test data is\",mean_absolute_percentage_error1(y_test, y_pred))\n",
    "    print(\"-----------------------------------------------------------------\")\n",
    "    Y_pred1 = regressor.predict(x_train)\n",
    "    print(\"r2 for train data is\",regressor.score(x_train, y_train))\n",
    "    print(\"MSE for train data is\",mean_squared_error(y_train, Y_pred1))\n",
    "    print(\"RMSE for train data is\",math.sqrt(mean_squared_error(y_train, Y_pred1)))\n",
    "    print(\"MAE for train data is\",mean_absolute_error(y_train, Y_pred1))\n",
    "    print(\"MAPE for train data is\",mean_absolute_percentage_error1(y_train, Y_pred1))\n",
    "    print(\"==================================================================\")\n",
    "    Train_Scores.append(regressor.score(x_train, y_train))\n",
    "    Test_Scores.append(regressor.score(x_test, y_test))\n",
    "    "
   ]
  },
  {
   "cell_type": "code",
   "execution_count": 37,
   "metadata": {},
   "outputs": [
    {
     "data": {
      "text/plain": [
       "<matplotlib.legend.Legend at 0x262da49dc18>"
      ]
     },
     "execution_count": 37,
     "metadata": {},
     "output_type": "execute_result"
    },
    {
     "data": {
      "image/png": "[encoded data removed]",
      "text/plain": [
       "<Figure size 720x432 with 1 Axes>"
      ]
     },
     "metadata": {
      "needs_background": "light"
     },
     "output_type": "display_data"
    }
   ],
   "source": [
    "plt.figure(figsize=(10,6))\n",
    "plt.plot(Depth, Train_Scores, color ='green', label=\"Train\")\n",
    "plt.plot(Depth, Test_Scores, color ='Red', label =\"Test\")\n",
    "plt.legend()"
   ]
  },
  {
   "cell_type": "code",
   "execution_count": null,
   "metadata": {},
   "outputs": [],
   "source": []
  },
  {
   "cell_type": "code",
   "execution_count": 38,
   "metadata": {},
   "outputs": [
    {
     "data": {
      "text/plain": [
       "[<matplotlib.lines.Line2D at 0x262d8d975c0>]"
      ]
     },
     "execution_count": 38,
     "metadata": {},
     "output_type": "execute_result"
    },
    {
     "data": {
      "image/png": "[encoded data removed]",
      "text/plain": [
       "<Figure size 1080x432 with 1 Axes>"
      ]
     },
     "metadata": {
      "needs_background": "light"
     },
     "output_type": "display_data"
    }
   ],
   "source": [
    "import sys\n",
    "import warnings\n",
    "if not sys.warnoptions:\n",
    "    warnings.simplefilter(\"ignore\")\n",
    "import matplotlib.pyplot as plt\n",
    "regressor = RandomForestRegressor(n_estimators=257, random_state=0, max_depth = 10)\n",
    "regressor.fit(x_train, y_train)\n",
    "plt.figure(figsize=(15,6))\n",
    "plt.plot(df['Date'], df['TOTAL'])\n",
    "plt.plot(df['Date'], regressor.predict(df[predictors]))"
   ]
  },
  {
   "cell_type": "code",
   "execution_count": 39,
   "metadata": {},
   "outputs": [],
   "source": [
    "## Recursive feature elimination\n"
   ]
  },
  {
   "cell_type": "code",
   "execution_count": 44,
   "metadata": {},
   "outputs": [
    {
     "name": "stdout",
     "output_type": "stream",
     "text": [
      "0.340934061938652\n",
      "[False False False  True  True False False  True  True False False False\n",
      " False False False False False False False False False False False False\n",
      " False False False False]\n",
      "[ 7  8 14  1  1 22 10  1  1  2 16  5 12 13 19 21  4 24 15  6 20 23 25  3\n",
      " 11 17  9 18]\n"
     ]
    },
    {
     "data": {
      "text/plain": [
       "Index(['unemployment rate', 'PRCP', 'TMAX', 'TMIN'], dtype='object')"
      ]
     },
     "execution_count": 44,
     "metadata": {},
     "output_type": "execute_result"
    }
   ],
   "source": [
    "from sklearn.feature_selection import RFE\n",
    "import sys\n",
    "import warnings\n",
    "\n",
    "if not sys.warnoptions:\n",
    "    warnings.simplefilter(\"ignore\")\n",
    "#from sklearn.svm import SVR\n",
    "#X, y = make_friedman1(n_samples=50, n_features=10, random_state=0)\n",
    "estimator = RandomForestRegressor(n_estimators=257, random_state=0, max_depth = 10)\n",
    "selector = RFE(estimator, 4, step=1)\n",
    "selector = selector.fit(x_train, y_train)\n",
    "y_predict = selector.predict(x_test)\n",
    "print(selector.score(x_test, y_test))\n",
    "print(selector.support_)\n",
    "print(selector.ranking_)\n",
    "col = x_test.columns\n",
    "col[selector.support_]"
   ]
  },
  {
   "cell_type": "code",
   "execution_count": 43,
   "metadata": {},
   "outputs": [
    {
     "name": "stdout",
     "output_type": "stream",
     "text": [
      "0.37062226835287704\n",
      "[False False False  True  True False False  True  True  True False False\n",
      " False False False False False False False False False False False False\n",
      " False False False False]\n",
      "[ 6  7 13  1  1 21  9  1  1  1 15  4 11 12 18 20  3 23 14  5 19 22 24  2\n",
      " 10 16  8 17]\n"
     ]
    },
    {
     "data": {
      "text/plain": [
       "Index(['unemployment rate', 'PRCP', 'TMAX', 'TMIN', 'Friday'], dtype='object')"
      ]
     },
     "execution_count": 43,
     "metadata": {},
     "output_type": "execute_result"
    }
   ],
   "source": [
    "from sklearn.feature_selection import RFE\n",
    "import sys\n",
    "import warnings\n",
    "\n",
    "if not sys.warnoptions:\n",
    "    warnings.simplefilter(\"ignore\")\n",
    "#from sklearn.svm import SVR\n",
    "#X, y = make_friedman1(n_samples=50, n_features=10, random_state=0)\n",
    "estimator = RandomForestRegressor(n_estimators=257, random_state=0, max_depth = 10)\n",
    "selector = RFE(estimator, 5, step=1)\n",
    "selector = selector.fit(x_train, y_train)\n",
    "y_predict = selector.predict(x_test)\n",
    "print(selector.score(x_test, y_test))\n",
    "print(selector.support_)\n",
    "print(selector.ranking_)\n",
    "col = x_test.columns\n",
    "col[selector.support_]"
   ]
  },
  {
   "cell_type": "code",
   "execution_count": null,
   "metadata": {},
   "outputs": [],
   "source": []
  }
 ],
 "metadata": {
  "kernelspec": {
   "display_name": "Python 3",
   "language": "python",
   "name": "python3"
  },
  "language_info": {
   "codemirror_mode": {
    "name": "ipython",
    "version": 3
   },
   "file_extension": ".py",
   "mimetype": "text/x-python",
   "name": "python",
   "nbconvert_exporter": "python",
   "pygments_lexer": "ipython3",
   "version": "3.7.3"
  }
 },
 "nbformat": 4,
 "nbformat_minor": 2
}
